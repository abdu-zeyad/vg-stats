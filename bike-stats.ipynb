{
 "cells": [
  {
   "cell_type": "code",
   "execution_count": null,
   "source": [
    "import pandas as pd"
   ],
   "outputs": [],
   "metadata": {}
  },
  {
   "cell_type": "code",
   "execution_count": null,
   "source": [
    "df_station = pd.read_csv('./station.csv',error_bad_lines=False)\n",
    "df_weather = pd.read_csv('./weather.csv')\n",
    "df_trip = pd.read_csv('./trip.csv',error_bad_lines=False)\n",
    "\n",
    "df_station.info()\n",
    "# df_station\n",
    "# df_weather\n",
    "\n"
   ],
   "outputs": [],
   "metadata": {}
  },
  {
   "cell_type": "markdown",
   "source": [
    "##  What is the average trip duration for a borrowed bicycle?\n"
   ],
   "metadata": {}
  },
  {
   "cell_type": "code",
   "execution_count": null,
   "source": [
    "trip_duration = df_trip['tripduration'].mean()\n",
    "\n",
    "trip_duration"
   ],
   "outputs": [],
   "metadata": {}
  },
  {
   "cell_type": "markdown",
   "source": [
    "## What’s the most common age of a bicycle-sharer?\n"
   ],
   "metadata": {}
  },
  {
   "cell_type": "code",
   "execution_count": null,
   "source": [
    "birth_sharer = df_trip['birthyear'].mode()[0]\n",
    "age = 2021 -birth_sharer\n",
    "age"
   ],
   "outputs": [],
   "metadata": {}
  },
  {
   "cell_type": "markdown",
   "source": [
    "## Given all the weather data here, find the average precipitation per month, and the median precipitation.\n",
    "What’s the average number of bikes at a given bike station?"
   ],
   "metadata": {}
  },
  {
   "cell_type": "code",
   "execution_count": null,
   "source": [
    "df_weather.head(10)\n",
    "def month(date):\n",
    "    return int(date.split('/')[0])\n",
    "df_weather['Month']=df_weather['Date'].apply(month)\n",
    "df_weather.head(10)"
   ],
   "outputs": [],
   "metadata": {}
  },
  {
   "cell_type": "code",
   "execution_count": null,
   "source": [
    "average =df_weather.groupby('Month')['Precipitation_In']\n",
    "average.mean()"
   ],
   "outputs": [],
   "metadata": {}
  },
  {
   "cell_type": "code",
   "execution_count": null,
   "source": [
    "average.median()\n"
   ],
   "outputs": [],
   "metadata": {}
  },
  {
   "cell_type": "markdown",
   "source": [
    "# What’s the average number of bikes at a given bike station?\n"
   ],
   "metadata": {}
  },
  {
   "cell_type": "code",
   "execution_count": null,
   "source": [
    "dock_count=df_station[df_station['decommission_date'].notnull()]\n",
    "all=df_station[df_station['decommission_date'].isnull()]\n",
    "avg_bike_num=all.mean()\n",
    "avg_bike_num=avg_bike_num.current_dockcount\n",
    "avg_bike_num"
   ],
   "outputs": [],
   "metadata": {}
  },
  {
   "cell_type": "markdown",
   "source": [
    "# When a bike station is modified, is it more likely that it’ll lose bikes or gain bikes? How do you know?\n"
   ],
   "metadata": {}
  },
  {
   "cell_type": "code",
   "execution_count": null,
   "source": [
    "\n",
    "station=df_station[['modification_date','install_dockcount','current_dockcount']].dropna()\n",
    "station['current_dockcount'].sum()-station['install_dockcount'].sum()"
   ],
   "outputs": [],
   "metadata": {}
  },
  {
   "cell_type": "markdown",
   "source": [
    "## Come up with 3 more questions that can be answered with this data set."
   ],
   "metadata": {}
  },
  {
   "cell_type": "markdown",
   "source": [
    "# find maximum tempreture at all."
   ],
   "metadata": {}
  },
  {
   "cell_type": "code",
   "execution_count": null,
   "source": [
    "maximum = df_weather['Max_Temperature_F'].max()\n",
    "maximum"
   ],
   "outputs": [],
   "metadata": {}
  },
  {
   "cell_type": "markdown",
   "source": [
    "# find most starting station "
   ],
   "metadata": {}
  },
  {
   "cell_type": "code",
   "execution_count": null,
   "source": [
    "station_name_common = df_trip['from_station_name'].value_counts().idxmax()\n",
    "station_name_common\n",
    "station_name_common"
   ],
   "outputs": [],
   "metadata": {}
  },
  {
   "cell_type": "markdown",
   "source": [
    "# find  the longest distance"
   ],
   "metadata": {}
  },
  {
   "cell_type": "code",
   "execution_count": null,
   "source": [
    "longest = df_station['long'].max()\n",
    "longest"
   ],
   "outputs": [],
   "metadata": {}
  },
  {
   "cell_type": "code",
   "execution_count": 138,
   "source": [
    "def test():\n",
    "\n",
    "    def assert_equal(actual,expected):\n",
    "        assert actual == expected, f\"Expected {expected} but got {actual}\"\n",
    "\n",
    "    assert_equal(trip_duration, 1178.2956753399776)\n",
    "    assert_equal(birth_sharer, 1987.0)\n",
    "    assert_equal(maximum, 98)\n",
    "    assert_equal(longest, -122.284119)\n",
    "    assert_equal(station_name_common, 'Pier 69 / Alaskan Way & Clay St')\n",
    "\n",
    "\n",
    "    \n",
    "    print(\"Success!!!\")\n",
    "\n",
    "test()"
   ],
   "outputs": [
    {
     "output_type": "error",
     "ename": "AssertionError",
     "evalue": "Expected  Pier 69 / Alaskan Way & Clay St but got Pier 69 / Alaskan Way & Clay St",
     "traceback": [
      "\u001b[0;31m---------------------------------------------------------------------------\u001b[0m",
      "\u001b[0;31mAssertionError\u001b[0m                            Traceback (most recent call last)",
      "\u001b[0;32m/tmp/ipykernel_5828/711439903.py\u001b[0m in \u001b[0;36m<module>\u001b[0;34m\u001b[0m\n\u001b[1;32m     14\u001b[0m     \u001b[0mprint\u001b[0m\u001b[0;34m(\u001b[0m\u001b[0;34m\"Success!!!\"\u001b[0m\u001b[0;34m)\u001b[0m\u001b[0;34m\u001b[0m\u001b[0;34m\u001b[0m\u001b[0m\n\u001b[1;32m     15\u001b[0m \u001b[0;34m\u001b[0m\u001b[0m\n\u001b[0;32m---> 16\u001b[0;31m \u001b[0mtest\u001b[0m\u001b[0;34m(\u001b[0m\u001b[0;34m)\u001b[0m\u001b[0;34m\u001b[0m\u001b[0;34m\u001b[0m\u001b[0m\n\u001b[0m",
      "\u001b[0;32m/tmp/ipykernel_5828/711439903.py\u001b[0m in \u001b[0;36mtest\u001b[0;34m()\u001b[0m\n\u001b[1;32m      8\u001b[0m     \u001b[0massert_equal\u001b[0m\u001b[0;34m(\u001b[0m\u001b[0mmaximum\u001b[0m\u001b[0;34m,\u001b[0m \u001b[0;36m98\u001b[0m\u001b[0;34m)\u001b[0m\u001b[0;34m\u001b[0m\u001b[0;34m\u001b[0m\u001b[0m\n\u001b[1;32m      9\u001b[0m     \u001b[0massert_equal\u001b[0m\u001b[0;34m(\u001b[0m\u001b[0mlongest\u001b[0m\u001b[0;34m,\u001b[0m \u001b[0;34m-\u001b[0m\u001b[0;36m122.284119\u001b[0m\u001b[0;34m)\u001b[0m\u001b[0;34m\u001b[0m\u001b[0;34m\u001b[0m\u001b[0m\n\u001b[0;32m---> 10\u001b[0;31m     \u001b[0massert_equal\u001b[0m\u001b[0;34m(\u001b[0m\u001b[0mstation_name_common\u001b[0m\u001b[0;34m,\u001b[0m \u001b[0;34m' Pier 69 / Alaskan Way & Clay St'\u001b[0m\u001b[0;34m)\u001b[0m\u001b[0;34m\u001b[0m\u001b[0;34m\u001b[0m\u001b[0m\n\u001b[0m\u001b[1;32m     11\u001b[0m \u001b[0;34m\u001b[0m\u001b[0m\n\u001b[1;32m     12\u001b[0m \u001b[0;34m\u001b[0m\u001b[0m\n",
      "\u001b[0;32m/tmp/ipykernel_5828/711439903.py\u001b[0m in \u001b[0;36massert_equal\u001b[0;34m(actual, expected)\u001b[0m\n\u001b[1;32m      2\u001b[0m \u001b[0;34m\u001b[0m\u001b[0m\n\u001b[1;32m      3\u001b[0m     \u001b[0;32mdef\u001b[0m \u001b[0massert_equal\u001b[0m\u001b[0;34m(\u001b[0m\u001b[0mactual\u001b[0m\u001b[0;34m,\u001b[0m\u001b[0mexpected\u001b[0m\u001b[0;34m)\u001b[0m\u001b[0;34m:\u001b[0m\u001b[0;34m\u001b[0m\u001b[0;34m\u001b[0m\u001b[0m\n\u001b[0;32m----> 4\u001b[0;31m         \u001b[0;32massert\u001b[0m \u001b[0mactual\u001b[0m \u001b[0;34m==\u001b[0m \u001b[0mexpected\u001b[0m\u001b[0;34m,\u001b[0m \u001b[0;34mf\"Expected {expected} but got {actual}\"\u001b[0m\u001b[0;34m\u001b[0m\u001b[0;34m\u001b[0m\u001b[0m\n\u001b[0m\u001b[1;32m      5\u001b[0m \u001b[0;34m\u001b[0m\u001b[0m\n\u001b[1;32m      6\u001b[0m     \u001b[0massert_equal\u001b[0m\u001b[0;34m(\u001b[0m\u001b[0mtrip_duration\u001b[0m\u001b[0;34m,\u001b[0m \u001b[0;36m1178.2956753399776\u001b[0m\u001b[0;34m)\u001b[0m\u001b[0;34m\u001b[0m\u001b[0;34m\u001b[0m\u001b[0m\n",
      "\u001b[0;31mAssertionError\u001b[0m: Expected  Pier 69 / Alaskan Way & Clay St but got Pier 69 / Alaskan Way & Clay St"
     ]
    }
   ],
   "metadata": {}
  }
 ],
 "metadata": {
  "orig_nbformat": 4,
  "language_info": {
   "name": "python",
   "version": "3.8.10",
   "mimetype": "text/x-python",
   "codemirror_mode": {
    "name": "ipython",
    "version": 3
   },
   "pygments_lexer": "ipython3",
   "nbconvert_exporter": "python",
   "file_extension": ".py"
  },
  "kernelspec": {
   "name": "python3",
   "display_name": "Python 3.8.10 64-bit ('.venv': poetry)"
  },
  "interpreter": {
   "hash": "936d99f5a013dd4860285e05e9b765213d5990c511c81b4dbe695071c82d9396"
  }
 },
 "nbformat": 4,
 "nbformat_minor": 2
}